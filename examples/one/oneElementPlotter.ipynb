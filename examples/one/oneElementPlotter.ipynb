{
 "cells": [
  {
   "cell_type": "code",
   "execution_count": 7,
   "metadata": {
    "collapsed": false
   },
   "outputs": [
    {
     "name": "stdout",
     "output_type": "stream",
     "text": [
      "Populating the interactive namespace from numpy and matplotlib\n"
     ]
    }
   ],
   "source": [
    "%pylab inline"
   ]
  },
  {
   "cell_type": "code",
   "execution_count": 8,
   "metadata": {
    "collapsed": false
   },
   "outputs": [
    {
     "data": {
      "text/plain": [
       "u'/home/younguj/repo/abaqusPy/examples/one'"
      ]
     },
     "execution_count": 8,
     "metadata": {},
     "output_type": "execute_result"
    }
   ],
   "source": [
    "pwd"
   ]
  },
  {
   "cell_type": "code",
   "execution_count": 9,
   "metadata": {
    "collapsed": false
   },
   "outputs": [
    {
     "name": "stdout",
     "output_type": "stream",
     "text": [
      "\u001b[0m\u001b[0mdiagnose.txt\u001b[0m                          \u001b[0mOneElement_00_UMAT_mises_MatF_None.txt\u001b[0m\r\n",
      "\u001b[0mOneElement_00_UMAT_epl_MatF_None.txt\u001b[0m  \u001b[0mstatev.txt\u001b[0m\r\n",
      "\u001b[m"
     ]
    }
   ],
   "source": [
    "ls *.txt"
   ]
  },
  {
   "cell_type": "code",
   "execution_count": 10,
   "metadata": {
    "collapsed": false
   },
   "outputs": [
    {
     "name": "stdout",
     "output_type": "stream",
     "text": [
      "  0.00000e+00   0.00000e+00   0.00000e+00   0.00000e+00   0.00000e+00   0.00000e+00   0.00000e+00\r\n",
      "  1.00000e-05   2.30769e+06   0.00000e+00   0.00000e+00   1.00000e-02   1.00000e-05  -4.28571e-06\r\n",
      "  2.00000e-05   4.61538e+06   0.00000e+00   0.00000e+00   2.00000e-02   2.00000e-05  -8.57143e-06\r\n"
     ]
    }
   ],
   "source": [
    "!head -n 3 OneElement_00_UMAT_mises_MatF_None.txt"
   ]
  },
  {
   "cell_type": "code",
   "execution_count": 11,
   "metadata": {
    "collapsed": false
   },
   "outputs": [],
   "source": [
    "dat=np.loadtxt('OneElement_00_UMAT_mises_MatF_None.txt').T"
   ]
  },
  {
   "cell_type": "code",
   "execution_count": 16,
   "metadata": {
    "collapsed": false
   },
   "outputs": [
    {
     "data": {
      "text/plain": [
       "<matplotlib.legend.Legend at 0x2b29b1e300d0>"
      ]
     },
     "execution_count": 16,
     "metadata": {},
     "output_type": "execute_result"
    },
    {
     "data": {
      "image/png": "[encoded data removed]",
      "text/plain": [
       "<matplotlib.figure.Figure at 0x2b29b1d48d50>"
      ]
     },
     "metadata": {},
     "output_type": "display_data"
    }
   ],
   "source": [
    "fig=plt.figure(figsize=(9,3.0));\n",
    "ax1=fig.add_subplot(121)\n",
    "ax2=fig.add_subplot(122)\n",
    "mpa=1e6\n",
    "\n",
    "#   0,  1,   2,   3,   4,   5,   6\n",
    "# e11,s11,pe11,pe22,time,ee11,ee22\n",
    "\n",
    "ax1.plot(dat[0],dat[1]/mpa,'-',label=r'$\\varepsilon^\\mathrm{total}$ vs. $\\sigma_{11}$')\n",
    "#ax2.plot(dat[4],dat[0],'-',label=r'$\\varepsilon_{11}$')\n",
    "ax2.plot(dat[4],dat[2],'--',label=r'$\\varepsilon_{11}^{pl}$')\n",
    "ax2.plot(dat[4],dat[5],'g--',label=r'$\\varepsilon_{11}^{el}$')\n",
    "ax2.plot(dat[4],dat[6],'-',label=r'$\\varepsilon_{22}^{el}$')\n",
    "#ax1.plot(dat[2],dat[1]/mpa,'x-',label=r'$\\varepsilon^\\mathrm{plastic}$ vs. $\\sigma_{11}$')\n",
    "\n",
    "ax1.set_ylabel(r'Flow stress $\\sigma$ [MPa]')\n",
    "ax1.set_xlabel(r'Total strain $\\varepsilon$')\n",
    "ax2.set_xlabel('Time [sec]')\n",
    "\n",
    "ax1.legend(framealpha=0.5,fontsize=9,numpoints=1,bbox_to_anchor=(1.0,1.2),ncol=4)\n",
    "ax2.legend(framealpha=0.5,fontsize=9,numpoints=1,bbox_to_anchor=(1.0,1.2),ncol=4)"
   ]
  }
 ],
 "metadata": {
  "kernelspec": {
   "display_name": "Anaconda 2.5.0 (Python 2)",
   "language": "python",
   "name": "anaconda_2.5.0_python2"
  },
  "language_info": {
   "codemirror_mode": {
    "name": "ipython",
    "version": 2
   },
   "file_extension": ".py",
   "mimetype": "text/x-python",
   "name": "python",
   "nbconvert_exporter": "python",
   "pygments_lexer": "ipython2",
   "version": "2.7.11"
  }
 },
 "nbformat": 4,
 "nbformat_minor": 0
}
